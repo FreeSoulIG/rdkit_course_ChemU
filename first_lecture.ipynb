{
 "cells": [
  {
   "cell_type": "markdown",
   "id": "b2e1f538-7898-451b-8b12-148c64cc7103",
   "metadata": {},
   "source": [
    "### READING AND WRITING MOLECULES"
   ]
  },
  {
   "cell_type": "markdown",
   "id": "ed47b7fd-3b9c-4ead-8bbd-dace6acba665",
   "metadata": {},
   "source": [
    "&nbsp;"
   ]
  },
  {
   "cell_type": "markdown",
   "id": "73ba5506-61fa-4764-b1d1-a53f07f30967",
   "metadata": {},
   "source": [
    "#### IMPORTING OF ALL NECESSARY LIBRARIES"
   ]
  },
  {
   "cell_type": "code",
   "execution_count": 102,
   "id": "4fe49458-f9bf-4fb3-b91e-111e25f71813",
   "metadata": {},
   "outputs": [],
   "source": [
    "import os\n",
    "import pickle\n",
    "\n",
    "from rdkit import Chem\n",
    "from rdkit.Chem import AllChem\n",
    "from rdkit.six import StringIO\n",
    "from rdkit.Chem.Draw import rdMolDraw2D\n",
    "from rdkit.Chem import Draw\n",
    "\n",
    "from utils import Mol2MolSupplier"
   ]
  },
  {
   "cell_type": "markdown",
   "id": "9b3b6acf-c08b-49cd-9455-a949c6765334",
   "metadata": {},
   "source": [
    "Important information!!! Sometimes we do not need to take into account Hydrogen atoms and RDKit gives us this ability. </br>\n",
    "We can simply forward `removeHs` flag as True into above-mentioned function to get rid of Hydrogens."
   ]
  },
  {
   "cell_type": "markdown",
   "id": "bc20ed14-937f-4a40-be26-e5e4e63ae852",
   "metadata": {},
   "source": [
    "#### TRYING SOMETHING SIMPLE"
   ]
  },
  {
   "cell_type": "markdown",
   "id": "e46414da-8c06-40bc-9edb-9a7b62f3dada",
   "metadata": {},
   "source": [
    "First of all we should come up wit some compounds, which we are going to use. They could anything you use in your chemistry life or something simple. <br />\n",
    "Like benzene!  <br />"
   ]
  },
  {
   "cell_type": "markdown",
   "id": "b3198fc7-ce5d-461a-8e2d-513392ed04b4",
   "metadata": {},
   "source": [
    "To describe the benzene molecule we use popular representation of molecules - **SMILES**. Which stands for **Simplified Molecular Input Line Entry System**."
   ]
  },
  {
   "cell_type": "code",
   "execution_count": 4,
   "id": "388e22c6-c0b8-46db-a180-9cf7950f7741",
   "metadata": {},
   "outputs": [],
   "source": [
    "SMILES_benzene = 'c1ccccc1'\n",
    "m = Chem.MolFromSmiles(SMILES_benzene)"
   ]
  },
  {
   "cell_type": "code",
   "execution_count": 8,
   "id": "3d2a1c36-4452-4a7c-947c-cdfba3ff74d5",
   "metadata": {},
   "outputs": [
    {
     "data": {
      "image/png": "[encoded data removed]",
      "text/plain": [
       "<rdkit.Chem.rdchem.Mol at 0x7fb3b8d05240>"
      ]
     },
     "execution_count": 8,
     "metadata": {},
     "output_type": "execute_result"
    }
   ],
   "source": [
    "m #Let's look at this beautiful molecule"
   ]
  },
  {
   "cell_type": "markdown",
   "id": "43eec254-d0e7-44fa-a1dc-ddcd72579e3a",
   "metadata": {},
   "source": [
    "Also there is an another way to describe a molecule and store information about. It is so-called **Structure-data file**, which stores structural information for a molecule. <br />\n",
    "It wraps the **molfile (MDL Molfile)** format, where holds information about the atoms, bonds, connectivity and coordinates of a molecule. "
   ]
  },
  {
   "cell_type": "code",
   "execution_count": 12,
   "id": "f2807d28-2b6d-4ad4-847f-c591b75d2807",
   "metadata": {},
   "outputs": [],
   "source": [
    "m = Chem.MolFromMolFile('benzene.sdf', removeHs=True) #For our example we can open SDF file now with MolFromMolFile function unless we do not have more molfiles in the .sdf file"
   ]
  },
  {
   "cell_type": "markdown",
   "id": "55638581-3415-4dfc-9466-bea08d6736f9",
   "metadata": {},
   "source": [
    "Important information!!! Sometimes we do not need to take into account Hydrogen atoms and RDKit gives us this ability. </br>\n",
    "We can simply forward `removeHs` flag as True into above-mentioned function to get rid of Hydrogens."
   ]
  },
  {
   "cell_type": "code",
   "execution_count": 14,
   "id": "24a9974d-9d3a-4789-a68b-52abcf372b93",
   "metadata": {},
   "outputs": [
    {
     "data": {
      "image/png": "[encoded data removed]",
      "text/plain": [
       "<rdkit.Chem.rdchem.Mol at 0x7fb3b8d07dc0>"
      ]
     },
     "execution_count": 14,
     "metadata": {},
     "output_type": "execute_result"
    }
   ],
   "source": [
    "m  #Let's look again"
   ]
  },
  {
   "cell_type": "markdown",
   "id": "6c5ee831-9aa8-4e31-8e6f-c1b747e66a0d",
   "metadata": {},
   "source": [
    "All of the above-mentioned methods return `rdkit.Chem.rdchem.Mol` RDKit object, which has nice properties and will be used throughout the lesson."
   ]
  },
  {
   "cell_type": "markdown",
   "id": "f2442a6d-15db-4002-b7d4-9f0668fdf285",
   "metadata": {},
   "source": [
    "RDKit allows us to see some problems with our molecules via warning or error messages. <br />\n",
    "Like something below"
   ]
  },
  {
   "cell_type": "code",
   "execution_count": 19,
   "id": "99435fc3-e93f-4eb2-b766-0ec134a54397",
   "metadata": {},
   "outputs": [
    {
     "name": "stderr",
     "output_type": "stream",
     "text": [
      "[15:01:25] Explicit valence for atom # 1 O, 3, is greater than permitted\n"
     ]
    }
   ],
   "source": [
    "bad_SMILES = 'CO(C)C'\n",
    "m1 = Chem.MolFromSmiles(bad_SMILES)"
   ]
  },
  {
   "cell_type": "code",
   "execution_count": 23,
   "id": "e6edf05a-44bc-41cb-b957-f924858d021c",
   "metadata": {},
   "outputs": [],
   "source": [
    "m1 # Nothing to see here"
   ]
  },
  {
   "cell_type": "code",
   "execution_count": 22,
   "id": "6dd8deaf-a271-48c6-b24e-6c79cdfc4e95",
   "metadata": {},
   "outputs": [
    {
     "data": {
      "text/plain": [
       "True"
      ]
     },
     "execution_count": 22,
     "metadata": {},
     "output_type": "execute_result"
    }
   ],
   "source": [
    "m1 is None # Also the method outputs None"
   ]
  },
  {
   "cell_type": "markdown",
   "id": "45356f2c-0cbf-4ac0-aeb2-c861a16372f4",
   "metadata": {},
   "source": [
    "Going back to reading a SDF file.. Let's try some RDKit method and see what it does <br />"
   ]
  },
  {
   "cell_type": "code",
   "execution_count": 48,
   "id": "00821c2b-4367-4661-b0cc-542f9730b3b8",
   "metadata": {},
   "outputs": [],
   "source": [
    "sdf_mol = Chem.SDMolSupplier('benzene.sdf') # Just read"
   ]
  },
  {
   "cell_type": "code",
   "execution_count": 49,
   "id": "2f966089-3c74-4ccd-878e-bb7c2e26e2fb",
   "metadata": {},
   "outputs": [
    {
     "name": "stdout",
     "output_type": "stream",
     "text": [
      "6\n"
     ]
    }
   ],
   "source": [
    "for mol in sdf_mol:\n",
    "    print(mol.GetNumAtoms()) # And we have only one molecule! Which totally makes sense and it has six atoms, which is true!"
   ]
  },
  {
   "cell_type": "markdown",
   "id": "76873164-7a53-4c79-be17-ccadb3c50c7a",
   "metadata": {},
   "source": [
    "Important information!!! As you can see the result of `SDMolSupplier` is iterable object, which means that we can iterate this object through the loop - which in fact we did. 😊 </br>"
   ]
  },
  {
   "cell_type": "code",
   "execution_count": 50,
   "id": "7790d5ce-2f54-4565-99e0-a1d1fd0956d3",
   "metadata": {},
   "outputs": [
    {
     "data": {
      "text/plain": [
       "1"
      ]
     },
     "execution_count": 50,
     "metadata": {},
     "output_type": "execute_result"
    }
   ],
   "source": [
    "mols = [x for x in sdf_mol] # Anyway, how many molecules do we have? Another check \n",
    "len(mols)"
   ]
  },
  {
   "cell_type": "markdown",
   "id": "7437491e-30bf-401e-a763-72f717dc7917",
   "metadata": {},
   "source": [
    "Sometimes it's important to read `mol2` format files. This `mol2` format is plain text tabular format that represents a single or multiple chemical compounds and holds atomic coordinates, chemical bond information, and metadata of a molecule. </br>\n",
    "For this purpose we use the function, which is based on `Chem` RDkit library. The details of it will be presented later."
   ]
  },
  {
   "cell_type": "code",
   "execution_count": 106,
   "id": "f5dccb50-515d-4b9d-a4ba-4ba46767951f",
   "metadata": {
    "tags": []
   },
   "outputs": [],
   "source": [
    "mols = Mol2MolSupplier(\"benzene.mol2\") # Ant it's also an interable object!"
   ]
  },
  {
   "cell_type": "code",
   "execution_count": 107,
   "id": "f5da5979-925d-4110-8ced-a2fb1ef137e4",
   "metadata": {},
   "outputs": [
    {
     "data": {
      "image/png": "[encoded data removed]",
      "text/plain": [
       "<rdkit.Chem.rdchem.Mol at 0x7fb3b63ea3e0>"
      ]
     },
     "execution_count": 107,
     "metadata": {},
     "output_type": "execute_result"
    }
   ],
   "source": [
    "mols[0]"
   ]
  },
  {
   "cell_type": "markdown",
   "id": "339d9ed5-a9db-438f-85df-948c9de2011f",
   "metadata": {},
   "source": [
    "#### WRITING MOLECULES"
   ]
  },
  {
   "cell_type": "markdown",
   "id": "241b9059-75ad-4d72-b36d-86ed5a84fff4",
   "metadata": {},
   "source": [
    "What if someone wants to write/save molecules? It's not a problem. Let's try it!"
   ]
  },
  {
   "cell_type": "code",
   "execution_count": 31,
   "id": "a96577c2-13fe-4321-b2ad-067a8c441a0d",
   "metadata": {},
   "outputs": [],
   "source": [
    "Chem.MolToMolBlock(m), file=open('example_benzene.mol','w+') # If you want to write it as a mol file"
   ]
  },
  {
   "cell_type": "code",
   "execution_count": 32,
   "id": "1a3b018d-877b-4c1e-b932-bfbf208afe20",
   "metadata": {},
   "outputs": [],
   "source": [
    "with Chem.SDWriter('example_benzene.sdf') as w:\n",
    "    for m in mols:\n",
    "        w.write(m) # If you want to write it as a sdf file"
   ]
  },
  {
   "cell_type": "markdown",
   "id": "602b16dc-e77f-410c-a8db-4991acfdb5ea",
   "metadata": {},
   "source": [
    "if you open saved .sdf file, you will see a lot of information stored there, not only Chemical table"
   ]
  },
  {
   "cell_type": "markdown",
   "id": "d3a7abed-7c5b-4b31-adee-17922b04db5c",
   "metadata": {},
   "source": [
    "Let's draw our molecule to .png file"
   ]
  },
  {
   "cell_type": "code",
   "execution_count": 35,
   "id": "cbcc1c05-f871-4779-92a6-e107ff3affd2",
   "metadata": {},
   "outputs": [],
   "source": [
    "Draw.MolToFile(m, 'benzene.png') # this submodule does the job"
   ]
  },
  {
   "cell_type": "code",
   "execution_count": 36,
   "id": "72092e41-0ddd-4457-bcde-4cf7f0a54d3b",
   "metadata": {},
   "outputs": [],
   "source": [
    "from PIL import Image"
   ]
  },
  {
   "cell_type": "code",
   "execution_count": 37,
   "id": "1658505e-9b57-43f1-af44-fbf7d8f5d481",
   "metadata": {},
   "outputs": [
    {
     "data": {
      "image/png": "[encoded data removed]",
      "text/plain": [
       "<PIL.PngImagePlugin.PngImageFile image mode=RGB size=300x300>"
      ]
     },
     "metadata": {},
     "output_type": "display_data"
    }
   ],
   "source": [
    "im = Image.open(\"benzene.png\") \n",
    "im.show()  # This method will show image in any image viewer "
   ]
  },
  {
   "cell_type": "markdown",
   "id": "2874e440-aa5d-4d4d-8ead-a1433977403e",
   "metadata": {},
   "source": [
    "What a nice molecule we have! 😊"
   ]
  }
 ],
 "metadata": {
  "kernelspec": {
   "display_name": "Python 3 (ipykernel)",
   "language": "python",
   "name": "python3"
  },
  "language_info": {
   "codemirror_mode": {
    "name": "ipython",
    "version": 3
   },
   "file_extension": ".py",
   "mimetype": "text/x-python",
   "name": "python",
   "nbconvert_exporter": "python",
   "pygments_lexer": "ipython3",
   "version": "3.10.6"
  }
 },
 "nbformat": 4,
 "nbformat_minor": 5
}
